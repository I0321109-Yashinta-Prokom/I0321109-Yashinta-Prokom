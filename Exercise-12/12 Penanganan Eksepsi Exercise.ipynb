{
 "cells": [
  {
   "cell_type": "markdown",
   "metadata": {},
   "source": [
    "***\n",
    "<h1 align=\"center\">Exercise 12</h1>\n",
    " \n",
    "***\n",
    "## Exeption\n",
    "## Exercise 12.1\n",
    "\n",
    "Salinlah code yang ada pada contoh 12.1"
   ]
  },
  {
   "cell_type": "code",
   "execution_count": 1,
   "metadata": {},
   "outputs": [
    {
     "name": "stdout",
     "output_type": "stream",
     "text": [
      "An exception occured\n"
     ]
    }
   ],
   "source": [
    "#kerjakan disini\n",
    "try:\n",
    "    print(x)\n",
    "except:\n",
    "    print(\"An exception occured\")"
   ]
  },
  {
   "cell_type": "markdown",
   "metadata": {},
   "source": [
    "## Exercise 12.2\n",
    "\n",
    "Salinlah code yang ada pada contoh 12.2"
   ]
  },
  {
   "cell_type": "code",
   "execution_count": 2,
   "metadata": {},
   "outputs": [
    {
     "name": "stdout",
     "output_type": "stream",
     "text": [
      "teknik\n"
     ]
    }
   ],
   "source": [
    "#kerjakan disini\n",
    "try:\n",
    "    x = 'teknik'\n",
    "    print(x)\n",
    "except:\n",
    "    print(\"An exception occured\")"
   ]
  },
  {
   "cell_type": "markdown",
   "metadata": {},
   "source": [
    "## Exercise 12.3\n",
    "\n",
    "Salinlah code yang ada pada contoh 12.3"
   ]
  },
  {
   "cell_type": "code",
   "execution_count": 1,
   "metadata": {},
   "outputs": [
    {
     "name": "stdout",
     "output_type": "stream",
     "text": [
      "Anda mengetikkan \"helloo\"\n"
     ]
    }
   ],
   "source": [
    "#kerjakan disini\n",
    "try:\n",
    "    teks = input ('Ketikan sesuatu : ')\n",
    "except EOFError: \n",
    "    print ('\\nKenapa sudah EOF?')\n",
    "except KeyboardInterrupt:\n",
    "    print ('\\nAnda membatalkan operasi')\n",
    "else: \n",
    "    print ('Anda mengetikkan \"%s\"' % teks)"
   ]
  },
  {
   "cell_type": "markdown",
   "metadata": {},
   "source": [
    "## Exercise 12.4\n",
    "\n",
    "Salinlah code yang ada pada contoh 12.4"
   ]
  },
  {
   "cell_type": "code",
   "execution_count": 2,
   "metadata": {},
   "outputs": [
    {
     "name": "stdout",
     "output_type": "stream",
     "text": [
      "Anda mengetikkan \"selamat soree\"\n"
     ]
    }
   ],
   "source": [
    "#kerjakan disini\n",
    "try:\n",
    "    teks = input ('Ketikan sesuatu : ')\n",
    "except EOFError: \n",
    "    print ('\\nKenapa sudah EOF?')\n",
    "except KeyboardInterrupt:\n",
    "    print ('\\nAnda membatalkan operasi')\n",
    "else: \n",
    "    print ('Anda mengetikkan \"%s\"' % teks)"
   ]
  },
  {
   "cell_type": "markdown",
   "metadata": {},
   "source": [
    "## Exercise 12.5\n",
    "\n",
    "Salinlah code yang ada pada contoh 12.5"
   ]
  },
  {
   "cell_type": "code",
   "execution_count": 3,
   "metadata": {},
   "outputs": [],
   "source": [
    "#kerjakan disini\n",
    "import tkinter\n",
    "import tkinter.messagebox\n",
    "\n",
    "def main():\n",
    "    mainform = tkinter.Tk()\n",
    "    mainform.title(\"Demo button\")\n",
    "    mainform.geometry(\"155x100\")\n",
    "    #variabel yang akan dihubungkan\n",
    "    var1 = tkinter.StringVar()\n",
    "    #menentukan nilai default\n",
    "    var1.set(\"Python is fun\")\n",
    "    #Fungsi callback\n",
    "    def kosongkan():\n",
    "        var1.set(\"\")\n",
    "    def ambilteks():\n",
    "        tkinter.messagebox.showinfo(\"Informasi\", var1.get())\n",
    "    \n",
    "    #Membuat kontrol label\n",
    "    I = tkinter.Label(mainform, text=\"Masukkan teks\")\n",
    "    I.grid(row=0, column=0, columnspan=2, sticky=tkinter.W+tkinter.E, padx=4, pady=4)\n",
    "\n",
    "    #Membuat kontrol Entry\n",
    "    e = tkinter.Entry(mainform, textvariable=var1)\n",
    "    e.grid(row=1, column=0, columnspan=2, sticky=tkinter.W+tkinter.E, padx=4, pady=4 )\n",
    "\n",
    "    #Membuat kontrol Button\n",
    "    b1 = tkinter.Button(mainform, text=\"Kosongkan\", command=kosongkan)\n",
    "    b1.grid(row=2, column=0, padx=4, pady=4)\n",
    "    b2 = tkinter.Button(mainform, text=\"Ambil teks\", command=ambilteks)\n",
    "    b2.grid(row=2, column=1, padx=4, pady=4)\n",
    "\n",
    "    mainform.mainloop()\n",
    "if __name__ == \"__main__\":\n",
    "    main()"
   ]
  },
  {
   "cell_type": "markdown",
   "metadata": {},
   "source": [
    "***\n",
    "<h1 align=\"center\">WELL DONE</h1>\n",
    " \n",
    "***"
   ]
  }
 ],
 "metadata": {
  "interpreter": {
   "hash": "b671c20432fcd147198c92e7f072af9e705f087eb990bee22b07f08caab9f630"
  },
  "kernelspec": {
   "display_name": "Python 3.9.7 64-bit",
   "language": "python",
   "name": "python3"
  },
  "language_info": {
   "codemirror_mode": {
    "name": "ipython",
    "version": 3
   },
   "file_extension": ".py",
   "mimetype": "text/x-python",
   "name": "python",
   "nbconvert_exporter": "python",
   "pygments_lexer": "ipython3",
   "version": "3.9.7"
  },
  "orig_nbformat": 4
 },
 "nbformat": 4,
 "nbformat_minor": 2
}
