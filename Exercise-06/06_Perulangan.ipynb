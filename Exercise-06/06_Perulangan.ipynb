{
 "cells": [
  {
   "cell_type": "markdown",
   "metadata": {},
   "source": [
    "***\n",
    "<h1 align=\"center\">Exercise 06</h1>\n",
    " \n",
    "***\n",
    "## While Loop\n",
    "## Exercise 6.1\n",
    "isilah bagian rumpang berikut. xx diganti tanggal lahir dan yy diganti menjadi bulan lahir. tandanya menyesuaikan yang lebih besar."
   ]
  },
  {
   "cell_type": "code",
   "execution_count": 11,
   "metadata": {},
   "outputs": [
    {
     "name": "stdout",
     "output_type": "stream",
     "text": [
      "pilih dan lakukan yang benar, baru yang baik\n",
      "pilih dan lakukan yang benar, baru yang baik\n",
      "pilih dan lakukan yang benar, baru yang baik\n",
      "pilih dan lakukan yang benar, baru yang baik\n",
      "pilih dan lakukan yang benar, baru yang baik\n",
      "pilih dan lakukan yang benar, baru yang baik\n",
      "pilih dan lakukan yang benar, baru yang baik\n",
      "pilih dan lakukan yang benar, baru yang baik\n",
      "pilih dan lakukan yang benar, baru yang baik\n",
      "pilih dan lakukan yang benar, baru yang baik\n",
      "pilih dan lakukan yang benar, baru yang baik\n",
      "pilih dan lakukan yang benar, baru yang baik\n",
      "pilih dan lakukan yang benar, baru yang baik\n",
      "pilih dan lakukan yang benar, baru yang baik\n",
      "pilih dan lakukan yang benar, baru yang baik\n",
      "pilih dan lakukan yang benar, baru yang baik\n",
      "pilih dan lakukan yang benar, baru yang baik\n"
     ]
    }
   ],
   "source": [
    "#menentukan banyak pengulangan\n",
    "n = 27\n",
    "\n",
    "#melakukan pengulangan\n",
    "i = 11\n",
    "\n",
    "while i <= n :\n",
    "    print (\"pilih dan lakukan yang benar, baru yang baik\")\n",
    "    #diisi motto kalian\n",
    "    i = i + 1 # sesuaikan dengan atas agar fungsi perulangan dapat berhenti\n"
   ]
  },
  {
   "cell_type": "markdown",
   "metadata": {},
   "source": [
    "## Exercise 6.2\n",
    "\n",
    "Buatlah code seperti yang dicontohkan pada modul agar user dapat menginputkan sendiri jumlah n yang diinginkan"
   ]
  },
  {
   "cell_type": "code",
   "execution_count": 11,
   "metadata": {},
   "outputs": [
    {
     "name": "stdout",
     "output_type": "stream",
     "text": [
      "11\n",
      "12\n",
      "13\n",
      "14\n",
      "15\n",
      "16\n",
      "17\n"
     ]
    }
   ],
   "source": [
    "#Kerjakan disini\n",
    "#menentukan banyak pengulangan\n",
    "n = int(input(\"masukkan nilai n: \"))\n",
    "\n",
    "#melakukan pengulangan\n",
    "i = 11\n",
    "\n",
    "while i <= n :\n",
    "    print (i)\n",
    "    i = i + 1"
   ]
  },
  {
   "cell_type": "markdown",
   "metadata": {},
   "source": [
    "## Excercise 6.3\n",
    "\n",
    "isilah xx, yy, dan tanda rumpang seperti pada exercise 6.1\n"
   ]
  },
  {
   "cell_type": "code",
   "execution_count": 5,
   "metadata": {},
   "outputs": [
    {
     "name": "stdout",
     "output_type": "stream",
     "text": [
      "Baris ke-11 : The Greatest Showman\n",
      "Baris ke-12 : The Greatest Showman\n",
      "Baris ke-13 : The Greatest Showman\n",
      "Baris ke-14 : The Greatest Showman\n",
      "Baris ke-15 : The Greatest Showman\n",
      "Baris ke-16 : The Greatest Showman\n",
      "Baris ke-17 : The Greatest Showman\n",
      "Baris ke-18 : The Greatest Showman\n",
      "Baris ke-19 : The Greatest Showman\n",
      "Baris ke-20 : The Greatest Showman\n",
      "Baris ke-21 : The Greatest Showman\n",
      "Baris ke-22 : The Greatest Showman\n",
      "Baris ke-23 : The Greatest Showman\n",
      "Baris ke-24 : The Greatest Showman\n",
      "Baris ke-25 : The Greatest Showman\n",
      "Baris ke-26 : The Greatest Showman\n",
      "Baris ke-27 : The Greatest Showman\n"
     ]
    }
   ],
   "source": [
    "#melakukan pengulangan\n",
    "i = 11\n",
    "\n",
    "while i <= 27 :\n",
    "    print (\"Baris ke-%d : The Greatest Showman\"%i)\n",
    "    #isi titik-titik dengan judul film favorit kalian\n",
    "    i = i + 1 "
   ]
  },
  {
   "cell_type": "markdown",
   "metadata": {},
   "source": [
    "## FOR LOOP\n",
    "\n",
    "## Exercise 6.4\n",
    "\n",
    "munculkan 3 dari 7 elemen yang berada di dalam list1 dan list2\n"
   ]
  },
  {
   "cell_type": "code",
   "execution_count": 8,
   "metadata": {},
   "outputs": [
    {
     "name": "stdout",
     "output_type": "stream",
     "text": [
      "2 , sate ayam , jogja\n",
      "4 , mie goreng , bandung\n",
      "6 , pempek , palembang\n"
     ]
    }
   ],
   "source": [
    "list1 = [\"steak\", \"sate ayam\", \"seafood asam manis\", \"mie goreng\", \"martabak telur\", \"pempek\", \"ayam kecap manis\"] #masukkan 7 list makanan favorit kalian\n",
    "list2 = [\"solo\",\"jogja\", \"denpasar\", \"bandung\", \"semarang\",\"palembang\", \"batam\"] #masukkan 7 list kota favorit kalian\n",
    "\n",
    "for i in range(1,7,2) :\n",
    "    print(i+1, \",\", list1[i],\",\", list2[i])"
   ]
  },
  {
   "cell_type": "markdown",
   "metadata": {},
   "source": [
    "## Perulangan Bersarang\n",
    "\n",
    "## Exercise 6.5"
   ]
  },
  {
   "cell_type": "code",
   "execution_count": 9,
   "metadata": {},
   "outputs": [
    {
     "name": "stdout",
     "output_type": "stream",
     "text": [
      "121 \n",
      "132 144 \n",
      "143 156 169 \n",
      "154 168 182 196 \n",
      "165 180 195 210 225 \n",
      "176 192 208 224 240 256 \n",
      "187 204 221 238 255 272 289 \n",
      "198 216 234 252 270 288 306 324 \n",
      "209 228 247 266 285 304 323 342 361 \n",
      "220 240 260 280 300 320 340 360 380 400 \n",
      "231 252 273 294 315 336 357 378 399 420 441 \n",
      "242 264 286 308 330 352 374 396 418 440 462 484 \n",
      "253 276 299 322 345 368 391 414 437 460 483 506 529 \n",
      "264 288 312 336 360 384 408 432 456 480 504 528 552 576 \n",
      "275 300 325 350 375 400 425 450 475 500 525 550 575 600 625 \n",
      "286 312 338 364 390 416 442 468 494 520 546 572 598 624 650 676 \n",
      "297 324 351 378 405 432 459 486 513 540 567 594 621 648 675 702 729 \n"
     ]
    }
   ],
   "source": [
    "i = 11\n",
    "while i <= 27:\n",
    "    j = 11\n",
    "    while j<=i:\n",
    "        print(\"%d \" % (i*j), end = '')\n",
    "        j = j + 1\n",
    "    print()\n",
    "    i+=1"
   ]
  },
  {
   "cell_type": "markdown",
   "metadata": {},
   "source": [
    "## Pernyataan Loncat\n",
    "\n",
    "## Exercise 6.\n",
    "\n",
    "Buatlah fungsi berikut agar muncul angka hingga berhenti sesuai dengan nilai qq\n",
    "qq = angka favorit kalian\n",
    "pp>qq"
   ]
  },
  {
   "cell_type": "code",
   "execution_count": 10,
   "metadata": {},
   "outputs": [
    {
     "name": "stdout",
     "output_type": "stream",
     "text": [
      "01234567891011121314151617"
     ]
    }
   ],
   "source": [
    "for i in range(27):\n",
    "    print(i,end='')\n",
    "    if i == 17:\n",
    "        break"
   ]
  },
  {
   "cell_type": "markdown",
   "metadata": {},
   "source": [
    "***\n",
    "<h1 align=\"center\">WELL DONE</h1>\n",
    " \n",
    "***"
   ]
  }
 ],
 "metadata": {
  "interpreter": {
   "hash": "cd08f94adcf3cbae37fe85286256f4c2a10455ca9094fd053e9f3d3f09647223"
  },
  "kernelspec": {
   "display_name": "Python 3.9.7 64-bit",
   "language": "python",
   "name": "python3"
  },
  "language_info": {
   "codemirror_mode": {
    "name": "ipython",
    "version": 3
   },
   "file_extension": ".py",
   "mimetype": "text/x-python",
   "name": "python",
   "nbconvert_exporter": "python",
   "pygments_lexer": "ipython3",
   "version": "3.9.7"
  },
  "orig_nbformat": 4
 },
 "nbformat": 4,
 "nbformat_minor": 2
}
